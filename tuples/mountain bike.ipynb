{
 "cells": [
  {
   "cell_type": "code",
   "execution_count": 5,
   "metadata": {},
   "outputs": [
    {
     "ename": "NameError",
     "evalue": "name 'Printf' is not defined",
     "output_type": "error",
     "traceback": [
      "\u001b[1;31m---------------------------------------------------------------------------\u001b[0m",
      "\u001b[1;31mNameError\u001b[0m                                 Traceback (most recent call last)",
      "Cell \u001b[1;32mIn[5], line 10\u001b[0m\n\u001b[0;32m      7\u001b[0m bike1\u001b[39m.\u001b[39m gear \u001b[39m=\u001b[39m  \u001b[39m11\u001b[39m\n\u001b[0;32m      8\u001b[0m bike1\u001b[39m.\u001b[39m name \u001b[39m=\u001b[39m  \u001b[39m\"\u001b[39m\u001b[39mMOuntain bike\u001b[39m\u001b[39m\"\u001b[39m\n\u001b[1;32m---> 10\u001b[0m Printf(\u001b[39m\"\u001b[39m\u001b[39mName:\u001b[39m\u001b[39m{bike1.name}\u001b[39;00m\u001b[39m ,Gear\u001b[39m\u001b[39m\"\u001b[39m)\n",
      "\u001b[1;31mNameError\u001b[0m: name 'Printf' is not defined"
     ]
    }
   ],
   "source": [
    "class bike:\n",
    "    name = \"\" \n",
    "    gear = 0\n",
    "\n",
    "bike1 = bike()\n",
    "\n",
    "bike1. gear =  11\n",
    "bike1. name =  \"MOuntain bike\"\n",
    "\n",
    "Printf(\"Name:{bike1.name} ,Gear\")"
   ]
  },
  {
   "cell_type": "code",
   "execution_count": 1,
   "metadata": {},
   "outputs": [
    {
     "ename": "NameError",
     "evalue": "name 'Employee' is not defined",
     "output_type": "error",
     "traceback": [
      "\u001b[1;31m---------------------------------------------------------------------------\u001b[0m",
      "\u001b[1;31mNameError\u001b[0m                                 Traceback (most recent call last)",
      "Cell \u001b[1;32mIn[1], line 1\u001b[0m\n\u001b[1;32m----> 1\u001b[0m \u001b[39mclass\u001b[39;49;00m \u001b[39mEmployee\u001b[39;49;00m:\n\u001b[0;32m      3\u001b[0m     employee_id\u001b[39m=\u001b[39;49m\u001b[39m0\u001b[39;49m\n\u001b[0;32m      5\u001b[0m     employee1 \u001b[39m=\u001b[39;49m Employee()\n",
      "Cell \u001b[1;32mIn[1], line 5\u001b[0m, in \u001b[0;36mEmployee\u001b[1;34m()\u001b[0m\n\u001b[0;32m      1\u001b[0m \u001b[39mclass\u001b[39;00m \u001b[39mEmployee\u001b[39;00m:\n\u001b[0;32m      3\u001b[0m     employee_id\u001b[39m=\u001b[39m\u001b[39m0\u001b[39m\n\u001b[1;32m----> 5\u001b[0m     employee1 \u001b[39m=\u001b[39m Employee()\n\u001b[0;32m      6\u001b[0m     employee2 \u001b[39m=\u001b[39m Employee()\n\u001b[0;32m      8\u001b[0m     employee1\u001b[39m.\u001b[39memployeeID \u001b[39m=\u001b[39m \u001b[39m1001\u001b[39m\n",
      "\u001b[1;31mNameError\u001b[0m: name 'Employee' is not defined"
     ]
    }
   ],
   "source": [
    "class Employee:\n",
    "\n",
    "    employee_id=0\n",
    "\n",
    "    employee1 = Employee()\n",
    "    employee2 = Employee()\n",
    "\n",
    "    employee1.employeeID = 1001\n",
    "    print(f\"employee id:{employee1}\")\n",
    "           \n",
    "employee2.employeeID =1002\n",
    "print(f\"employee id:{employee2}\")"
   ]
  },
  {
   "cell_type": "code",
   "execution_count": null,
   "metadata": {},
   "outputs": [],
   "source": []
  }
 ],
 "metadata": {
  "kernelspec": {
   "display_name": "Python 3",
   "language": "python",
   "name": "python3"
  },
  "language_info": {
   "codemirror_mode": {
    "name": "ipython",
    "version": 3
   },
   "file_extension": ".py",
   "mimetype": "text/x-python",
   "name": "python",
   "nbconvert_exporter": "python",
   "pygments_lexer": "ipython3",
   "version": "3.11.3"
  },
  "orig_nbformat": 4
 },
 "nbformat": 4,
 "nbformat_minor": 2
}
