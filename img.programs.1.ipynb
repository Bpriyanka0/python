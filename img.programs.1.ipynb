{
 "cells": [
  {
   "cell_type": "code",
   "execution_count": 6,
   "metadata": {},
   "outputs": [
    {
     "name": "stdout",
     "output_type": "stream",
     "text": [
      "TensorFlow version: 2.10.0\n"
     ]
    }
   ],
   "source": [
    "import tensorflow as tf\n",
    "print(\"TensorFlow version:\", tf.__version__)\n"
   ]
  },
  {
   "cell_type": "code",
   "execution_count": 7,
   "metadata": {},
   "outputs": [
    {
     "name": "stderr",
     "output_type": "stream",
     "text": [
      "  % Total    % Received % Xferd  Average Speed   Time    Time     Time  Current\n",
      "                                 Dload  Upload   Total   Spent    Left  Speed\n",
      "\n",
      "  0     0    0     0    0     0      0      0 --:--:-- --:--:-- --:--:--     0\n",
      "  0  786M    0 1096k    0     0  2324k      0  0:05:46 --:--:--  0:05:46 2333k\n",
      "  1  786M    1 8107k    0     0  5526k      0  0:02:25  0:00:01  0:02:24 5534k\n",
      "  1  786M    1 15.2M    0     0  6340k      0  0:02:07  0:00:02  0:02:05 6345k\n",
      "  2  786M    2 22.5M    0     0  6657k      0  0:02:01  0:00:03  0:01:58 6659k\n",
      "  3  786M    3 30.9M    0     0  7083k      0  0:01:53  0:00:04  0:01:49 7086k\n",
      "  4  786M    4 38.1M    0     0  7136k      0  0:01:52  0:00:05  0:01:47 7589k\n",
      "  5  786M    5 45.3M    0     0  7189k      0  0:01:52  0:00:06  0:01:46 7675k\n",
      "  6  786M    6 52.5M    0     0  7205k      0  0:01:51  0:00:07  0:01:44 7631k\n",
      "  7  786M    7 58.6M    0     0  7096k      0  0:01:53  0:00:08  0:01:45 7401k\n",
      "  8  786M    8 64.8M    0     0  7006k      0  0:01:54  0:00:09  0:01:45 6938k\n",
      "  8  786M    8 70.3M    0     0  6877k      0  0:01:57  0:00:10  0:01:47 6595k\n",
      "  9  786M    9 76.9M    0     0  6870k      0  0:01:57  0:00:11  0:01:46 6459k\n",
      " 10  786M   10 82.6M    0     0  6785k      0  0:01:58  0:00:12  0:01:46 6159k\n",
      " 11  786M   11 91.8M    0     0  6986k      0  0:01:55  0:00:13  0:01:42 6799k\n",
      " 12  786M   12  101M    0     0  7185k      0  0:01:52  0:00:14  0:01:38 7523k\n",
      " 14  786M   14  110M    0     0  7319k      0  0:01:50  0:00:15  0:01:35 8244k\n",
      " 15  786M   15  119M    0     0  7455k      0  0:01:48  0:00:16  0:01:32 8799k\n",
      " 16  786M   16  129M    0     0  7582k      0  0:01:46  0:00:17  0:01:29 9569k\n",
      " 17  786M   17  138M    0     0  7704k      0  0:01:44  0:00:18  0:01:26 9637k\n",
      " 18  786M   18  145M    0     0  7654k      0  0:01:45  0:00:19  0:01:26 9013k\n",
      " 19  786M   19  151M    0     0  7591k      0  0:01:46  0:00:20  0:01:26 8435k\n",
      " 20  786M   20  158M    0     0  7569k      0  0:01:46  0:00:21  0:01:25 7945k\n",
      " 20  786M   20  164M    0     0  7474k      0  0:01:47  0:00:22  0:01:25 7097k\n",
      " 21  786M   21  169M    0     0  7406k      0  0:01:48  0:00:23  0:01:25 6307k\n",
      " 22  786M   22  176M    0     0  7368k      0  0:01:49  0:00:24  0:01:25 6251k\n",
      " 23  786M   23  183M    0     0  7376k      0  0:01:49  0:00:25  0:01:24 6492k\n",
      " 24  786M   24  192M    0     0  7438k      0  0:01:48  0:00:26  0:01:22 6874k\n",
      " 25  786M   25  199M    0     0  7451k      0  0:01:48  0:00:27  0:01:21 7345k\n",
      " 26  786M   26  209M    0     0  7534k      0  0:01:46  0:00:28  0:01:18 8136k\n",
      " 27  786M   27  218M    0     0  7594k      0  0:01:46  0:00:29  0:01:17 8703k\n",
      " 28  786M   28  227M    0     0  7648k      0  0:01:45  0:00:30  0:01:15 9035k\n",
      " 30  786M   30  237M    0     0  7713k      0  0:01:44  0:00:31  0:01:13 9169k\n",
      " 31  786M   31  247M    0     0  7805k      0  0:01:43  0:00:32  0:01:11 9752k\n",
      " 32  786M   32  257M    0     0  7883k      0  0:01:42  0:00:33  0:01:09 9860k\n",
      " 33  786M   33  265M    0     0  7876k      0  0:01:42  0:00:34  0:01:08 9532k\n",
      " 34  786M   34  274M    0     0  7912k      0  0:01:41  0:00:35  0:01:06 9524k\n",
      " 36  786M   36  283M    0     0  7956k      0  0:01:41  0:00:36  0:01:05 9483k\n",
      " 37  786M   37  291M    0     0  7972k      0  0:01:41  0:00:37  0:01:04 9055k\n",
      " 38  786M   38  301M    0     0  8021k      0  0:01:40  0:00:38  0:01:02 8954k\n",
      " 39  786M   39  311M    0     0  8077k      0  0:01:39  0:00:39  0:01:00 9463k\n",
      " 40  786M   40  321M    0     0  8124k      0  0:01:39  0:00:40  0:00:59 9621k\n",
      " 42  786M   42  330M    0     0  8159k      0  0:01:38  0:00:41  0:00:57 9647k\n",
      " 43  786M   43  338M    0     0  8166k      0  0:01:38  0:00:42  0:00:56 9615k\n",
      " 44  786M   44  346M    0     0  8171k      0  0:01:38  0:00:43  0:00:55 9318k\n",
      " 45  786M   45  354M    0     0  8158k      0  0:01:38  0:00:44  0:00:54 8801k\n",
      " 46  786M   46  362M    0     0  8167k      0  0:01:38  0:00:45  0:00:53 8512k\n",
      " 47  786M   47  372M    0     0  8205k      0  0:01:38  0:00:46  0:00:52 8584k\n",
      " 48  786M   48  382M    0     0  8241k      0  0:01:37  0:00:47  0:00:50 8882k\n",
      " 49  786M   49  391M    0     0  8266k      0  0:01:37  0:00:48  0:00:49 9090k\n",
      " 50  786M   50  399M    0     0  8271k      0  0:01:37  0:00:49  0:00:48 9272k\n",
      " 51  786M   51  406M    0     0  8244k      0  0:01:37  0:00:50  0:00:47 8944k\n",
      " 52  786M   52  414M    0     0  8245k      0  0:01:37  0:00:51  0:00:46 8615k\n",
      " 53  786M   53  420M    0     0  8213k      0  0:01:38  0:00:52  0:00:46 7943k\n",
      " 54  786M   54  425M    0     0  8143k      0  0:01:38  0:00:53  0:00:45 6953k\n",
      " 54  786M   54  432M    0     0  8131k      0  0:01:39  0:00:54  0:00:45 6746k\n",
      " 55  786M   55  439M    0     0  8110k      0  0:01:39  0:00:55  0:00:44 6765k\n",
      " 56  786M   56  447M    0     0  8108k      0  0:01:39  0:00:56  0:00:43 6696k\n",
      " 58  786M   58  456M    0     0  8141k      0  0:01:38  0:00:57  0:00:41 7393k\n",
      " 59  786M   59  464M    0     0  8129k      0  0:01:39  0:00:58  0:00:41 7983k\n",
      " 60  786M   60  472M    0     0  8132k      0  0:01:39  0:00:59  0:00:40 8145k\n",
      " 60  786M   60  478M    0     0  8106k      0  0:01:39  0:01:00  0:00:39 8063k\n",
      " 61  786M   61  486M    0     0  8099k      0  0:01:39  0:01:01  0:00:38 8001k\n",
      " 62  786M   62  493M    0     0  8092k      0  0:01:39  0:01:02  0:00:37 7528k\n",
      " 63  786M   63  501M    0     0  8092k      0  0:01:39  0:01:03  0:00:36 7657k\n",
      " 64  786M   64  509M    0     0  8086k      0  0:01:39  0:01:04  0:00:35 7533k\n",
      " 65  786M   65  515M    0     0  8058k      0  0:01:39  0:01:05  0:00:34 7477k\n",
      " 66  786M   66  520M    0     0  8025k      0  0:01:40  0:01:06  0:00:34 7125k\n",
      " 66  786M   66  525M    0     0  7983k      0  0:01:40  0:01:07  0:00:33 6614k\n",
      " 67  786M   67  531M    0     0  7942k      0  0:01:41  0:01:08  0:00:33 6035k\n",
      " 68  786M   68  536M    0     0  7912k      0  0:01:41  0:01:09  0:00:32 5682k\n",
      " 68  786M   68  541M    0     0  7870k      0  0:01:42  0:01:10  0:00:32 5402k\n",
      " 69  786M   69  547M    0     0  7848k      0  0:01:42  0:01:11  0:00:31 5502k\n",
      " 70  786M   70  553M    0     0  7818k      0  0:01:43  0:01:12  0:00:31 5590k\n",
      " 70  786M   70  556M    0     0  7759k      0  0:01:43  0:01:13  0:00:30 5256k\n",
      " 71  786M   71  560M    0     0  7707k      0  0:01:44  0:01:14  0:00:30 4870k\n",
      " 71  786M   71  564M    0     0  7658k      0  0:01:45  0:01:15  0:00:30 4671k\n",
      " 72  786M   72  566M    0     0  7591k      0  0:01:46  0:01:16  0:00:30 3901k\n",
      " 72  786M   72  569M    0     0  7523k      0  0:01:47  0:01:17  0:00:30 3256k\n",
      " 72  786M   72  570M    0     0  7440k      0  0:01:48  0:01:18  0:00:30 2818k\n",
      " 72  786M   72  572M    0     0  7371k      0  0:01:49  0:01:19  0:00:30 2325k\n",
      " 72  786M   72  573M    0     0  7297k      0  0:01:50  0:01:20  0:00:30 1859k\n",
      " 73  786M   73  575M    0     0  7233k      0  0:01:51  0:01:21  0:00:30 1751k\n",
      " 73  786M   73  580M    0     0  7203k      0  0:01:51  0:01:22  0:00:29 2239k\n",
      " 74  786M   74  588M    0     0  7216k      0  0:01:51  0:01:23  0:00:28 3639k\n",
      " 75  786M   75  596M    0     0  7230k      0  0:01:51  0:01:24  0:00:27 4997k\n",
      " 76  786M   76  604M    0     0  7236k      0  0:01:51  0:01:25  0:00:26 6250k\n",
      " 77  786M   77  610M    0     0  7224k      0  0:01:51  0:01:26  0:00:25 7075k\n",
      " 78  786M   78  618M    0     0  7245k      0  0:01:51  0:01:27  0:00:24 7943k\n",
      " 79  786M   79  628M    0     0  7272k      0  0:01:50  0:01:28  0:00:22 8207k\n",
      " 80  786M   80  636M    0     0  7282k      0  0:01:50  0:01:29  0:00:21 8171k\n",
      " 82  786M   82  646M    0     0  7313k      0  0:01:50  0:01:30  0:00:20 8626k\n",
      " 83  786M   83  655M    0     0  7342k      0  0:01:49  0:01:31  0:00:18 9384k\n",
      " 84  786M   84  666M    0     0  7376k      0  0:01:49  0:01:32  0:00:17 9671k\n",
      " 86  786M   86  676M    0     0  7416k      0  0:01:48  0:01:33  0:00:15 9973k\n",
      " 87  786M   87  688M    0     0  7460k      0  0:01:47  0:01:34  0:00:13 10.4M\n",
      " 88  786M   88  698M    0     0  7496k      0  0:01:47  0:01:35  0:00:12 10.5M\n",
      " 90  786M   90  709M    0     0  7524k      0  0:01:47  0:01:36  0:00:11 10.5M\n",
      " 91  786M   91  718M    0     0  7552k      0  0:01:46  0:01:37  0:00:09 10.5M\n",
      " 92  786M   92  728M    0     0  7577k      0  0:01:46  0:01:38  0:00:08 10.3M\n",
      " 93  786M   93  738M    0     0  7600k      0  0:01:45  0:01:39  0:00:06  9.9M\n",
      " 94  786M   94  745M    0     0  7596k      0  0:01:46  0:01:40  0:00:06 9506k\n",
      " 96  786M   96  755M    0     0  7624k      0  0:01:45  0:01:41  0:00:04 9577k\n",
      " 97  786M   97  765M    0     0  7653k      0  0:01:45  0:01:42  0:00:03 9637k\n",
      " 98  786M   98  775M    0     0  7675k      0  0:01:44  0:01:43  0:00:01 9595k\n",
      " 99  786M   99  785M    0     0  7704k      0  0:01:44  0:01:44 --:--:-- 9777k\n",
      "100  786M  100  786M    0     0  7705k      0  0:01:44  0:01:44 --:--:-- 10.1M\n",
      "'unzip' is not recognized as an internal or external command,\n",
      "operable program or batch file.\n",
      "'ls' is not recognized as an internal or external command,\n",
      "operable program or batch file.\n",
      "'ls' is not recognized as an internal or external command,\n",
      "operable program or batch file.\n"
     ]
    },
    {
     "ename": "FileNotFoundError",
     "evalue": "[WinError 3] The system cannot find the path specified: 'PetImages\\\\Cat'",
     "output_type": "error",
     "traceback": [
      "\u001b[1;31m---------------------------------------------------------------------------\u001b[0m",
      "\u001b[1;31mFileNotFoundError\u001b[0m                         Traceback (most recent call last)",
      "Cell \u001b[1;32mIn[7], line 13\u001b[0m\n\u001b[0;32m     11\u001b[0m \u001b[39mfor\u001b[39;00m folder_name \u001b[39min\u001b[39;00m (\u001b[39m\"\u001b[39m\u001b[39mCat\u001b[39m\u001b[39m\"\u001b[39m, \u001b[39m\"\u001b[39m\u001b[39mDog\u001b[39m\u001b[39m\"\u001b[39m):\n\u001b[0;32m     12\u001b[0m     folder_path \u001b[39m=\u001b[39m os\u001b[39m.\u001b[39mpath\u001b[39m.\u001b[39mjoin(\u001b[39m\"\u001b[39m\u001b[39mPetImages\u001b[39m\u001b[39m\"\u001b[39m, folder_name)\n\u001b[1;32m---> 13\u001b[0m     \u001b[39mfor\u001b[39;00m fname \u001b[39min\u001b[39;00m os\u001b[39m.\u001b[39;49mlistdir(folder_path):\n\u001b[0;32m     14\u001b[0m         fpath \u001b[39m=\u001b[39m os\u001b[39m.\u001b[39mpath\u001b[39m.\u001b[39mjoin(folder_path, fname)\n\u001b[0;32m     15\u001b[0m         \u001b[39mtry\u001b[39;00m:\n",
      "\u001b[1;31mFileNotFoundError\u001b[0m: [WinError 3] The system cannot find the path specified: 'PetImages\\\\Cat'"
     ]
    }
   ],
   "source": [
    "import tensorflow as tf\n",
    "from tensorflow import keras\n",
    "from tensorflow.keras import layers\n",
    "!curl -O https://download.microsoft.com/download/3/E/1/3E1C3F21-ECDB-4869-8368-6DEBA77B919F/kagglecatsanddogs_5340.zip\n",
    "!unzip -q kagglecatsanddogs_5340.zip\n",
    "!ls\n",
    "!ls PetImages\n",
    "import os\n",
    "\n",
    "num_skipped = 0\n",
    "for folder_name in (\"Cat\", \"Dog\"):\n",
    "    folder_path = os.path.join(\"PetImages\", folder_name)\n",
    "    for fname in os.listdir(folder_path):\n",
    "        fpath = os.path.join(folder_path, fname)\n",
    "        try:\n",
    "            fobj = open(fpath, \"rb\")\n",
    "            is_jfif = tf.compat.as_bytes(\"JFIF\") in fobj.peek(10)\n",
    "        finally:\n",
    "            fobj.close()\n",
    "\n",
    "        if not is_jfif:\n",
    "            num_skipped += 1\n",
    "            # Delete corrupted image\n",
    "            os.remove(fpath)\n",
    "\n",
    "print(\"Deleted %d images\" % num_skipped)\n",
    "image_size = (180, 180)\n",
    "batch_size = 128\n",
    "\n",
    "train_ds, val_ds = tf.keras.utils.image_dataset_from_directory(\n",
    "    \"PetImages\",\n",
    "    validation_split=0.2,\n",
    "    subset=\"both\",\n",
    "    seed=1337,\n",
    "    image_size=image_size,\n",
    "    batch_size=batch_size,\n",
    ")\n",
    "import matplotlib.pyplot as plt\n",
    "\n",
    "plt.figure(figsize=(10, 10))\n",
    "for images, labels in train_ds.take(1):\n",
    "    for i in range(9):\n",
    "        ax = plt.subplot(3, 3, i + 1)\n",
    "        plt.imshow(images[i].numpy().astype(\"uint8\"))\n",
    "        plt.title(int(labels[i]))\n",
    "        plt.axis(\"off\")\n",
    "data_augmentation = keras.Sequential(\n",
    "    [\n",
    "        layers.RandomFlip(\"horizontal\"),\n",
    "        layers.RandomRotation(0.1),\n",
    "    ]\n",
    ")\n",
    "augmented_train_ds = train_ds.map(\n",
    "    lambda x, y: (data_augmentation(x, training=True), y))\n",
    "# Apply `data_augmentation` to the training images.\n",
    "train_ds = train_ds.map(\n",
    "    lambda img, label: (data_augmentation(img), label),\n",
    "    num_parallel_calls=tf.data.AUTOTUNE,\n",
    ")\n",
    "# Prefetching samples in GPU memory helps maximize GPU utilization.\n",
    "train_ds = train_ds.prefetch(tf.data.AUTOTUNE)\n",
    "val_ds = val_ds.prefetch(tf.data.AUTOTUNE)\n",
    "def make_model(input_shape, num_classes):\n",
    "    inputs = keras.Input(shape=input_shape)\n",
    "\n",
    "    # Entry block\n",
    "    x = layers.Rescaling(1.0 / 255)(inputs)\n",
    "    x = layers.Conv2D(128, 3, strides=2, padding=\"same\")(x)\n",
    "    x = layers.BatchNormalization()(x)\n",
    "    x = layers.Activation(\"relu\")(x)\n",
    "\n",
    "    previous_block_activation = x  # Set aside residual\n",
    "\n",
    "    for size in [256, 512, 728]:\n",
    "        x = layers.Activation(\"relu\")(x)\n",
    "        x = layers.SeparableConv2D(size, 3, padding=\"same\")(x)\n",
    "        x = layers.BatchNormalization()(x)\n",
    "\n",
    "        x = layers.Activation(\"relu\")(x)\n",
    "        x = layers.SeparableConv2D(size, 3, padding=\"same\")(x)\n",
    "        x = layers.BatchNormalization()(x)\n",
    "\n",
    "        x = layers.MaxPooling2D(3, strides=2, padding=\"same\")(x)\n",
    "\n",
    "        # Project residual\n",
    "        residual = layers.Conv2D(size, 1, strides=2, padding=\"same\")(\n",
    "            previous_block_activation\n",
    "        )\n",
    "        x = layers.add([x, residual])  # Add back residual\n",
    "        previous_block_activation = x  # Set aside next residual\n",
    "\n",
    "    x = layers.SeparableConv2D(1024, 3, padding=\"same\")(x)\n",
    "    x = layers.BatchNormalization()(x)\n",
    "    x = layers.Activation(\"relu\")(x)\n",
    "\n",
    "    x = layers.GlobalAveragePooling2D()(x)\n",
    "    if num_classes == 2:\n",
    "        activation = \"sigmoid\"\n",
    "        units = 1\n",
    "    else:\n",
    "        activation = \"softmax\"\n",
    "        units = num_classes\n",
    "\n",
    "    x = layers.Dropout(0.5)(x)\n",
    "    outputs = layers.Dense(units, activation=activation)(x)\n",
    "    return keras.Model(inputs, outputs)\n",
    "\n",
    "\n",
    "model = make_model(input_shape=image_size + (3,), num_classes=2)\n",
    "keras.utils.plot_model(model, show_shapes=True)\n",
    "\n"
   ]
  },
  {
   "cell_type": "code",
   "execution_count": 10,
   "metadata": {},
   "outputs": [
    {
     "data": {
      "text/plain": [
       "array([[1],\n",
       "       [2]])"
      ]
     },
     "execution_count": 10,
     "metadata": {},
     "output_type": "execute_result"
    }
   ],
   "source": [
    "import numpy as np\n",
    "x=np.array([1,2])\n",
    "x.shape\n",
    "y=np.expand_dims(x,axis=-1)\n",
    "y\n"
   ]
  },
  {
   "cell_type": "code",
   "execution_count": 17,
   "metadata": {},
   "outputs": [
    {
     "name": "stdout",
     "output_type": "stream",
     "text": [
      "4.6.0\n"
     ]
    }
   ],
   "source": [
    "import cv2\n",
    "print(cv2.__version__)"
   ]
  },
  {
   "cell_type": "code",
   "execution_count": 20,
   "metadata": {},
   "outputs": [
    {
     "name": "stdout",
     "output_type": "stream",
     "text": [
      "Height = 1040,  Width = 780\n"
     ]
    }
   ],
   "source": [
    "# Importing the OpenCV library\n",
    "import cv2\n",
    "# Reading the image using imread() function\n",
    "image = cv2.imread('C:/Users/DELL/OneDrive/Desktop/image1.jpg')\n",
    "  \n",
    "# Extracting the height and width of an image\n",
    "h, w = image.shape[:2]\n",
    "# Displaying the height and width\n",
    "print(\"Height = {},  Width = {}\".format(h, w))"
   ]
  },
  {
   "cell_type": "code",
   "execution_count": 21,
   "metadata": {},
   "outputs": [
    {
     "data": {
      "text/plain": [
       "array([[1],\n",
       "       [2]])"
      ]
     },
     "execution_count": 21,
     "metadata": {},
     "output_type": "execute_result"
    }
   ],
   "source": [
    "import numpy as np\n",
    "x=np.array([1,2])\n",
    "x.shape\n",
    "y=np.expand_dims(x,axis=-1)\n",
    "y"
   ]
  },
  {
   "cell_type": "code",
   "execution_count": 24,
   "metadata": {},
   "outputs": [
    {
     "name": "stdout",
     "output_type": "stream",
     "text": [
      "Downloading data from https://storage.googleapis.com/tensorflow/tf-keras-datasets/mnist.npz\n",
      "11490434/11490434 [==============================] - 5s 0us/step\n",
      "Epoch 1/10\n",
      "1875/1875 [==============================] - 80s 40ms/step - loss: 0.1475 - accuracy: 0.9546 - val_loss: 0.0580 - val_accuracy: 0.9813\n",
      "Epoch 2/10\n",
      "1875/1875 [==============================] - 65s 35ms/step - loss: 0.0478 - accuracy: 0.9848 - val_loss: 0.0397 - val_accuracy: 0.9877\n",
      "Epoch 3/10\n",
      "1875/1875 [==============================] - 60s 32ms/step - loss: 0.0352 - accuracy: 0.9889 - val_loss: 0.0354 - val_accuracy: 0.9886\n",
      "Epoch 4/10\n",
      "1875/1875 [==============================] - 67s 36ms/step - loss: 0.0261 - accuracy: 0.9919 - val_loss: 0.0290 - val_accuracy: 0.9904\n",
      "Epoch 5/10\n",
      "1875/1875 [==============================] - 68s 36ms/step - loss: 0.0199 - accuracy: 0.9937 - val_loss: 0.0347 - val_accuracy: 0.9897\n",
      "Epoch 6/10\n",
      "1875/1875 [==============================] - 64s 34ms/step - loss: 0.0169 - accuracy: 0.9943 - val_loss: 0.0320 - val_accuracy: 0.9903\n",
      "Epoch 7/10\n",
      "1875/1875 [==============================] - 59s 32ms/step - loss: 0.0145 - accuracy: 0.9952 - val_loss: 0.0328 - val_accuracy: 0.9916\n",
      "Epoch 8/10\n",
      "1875/1875 [==============================] - 56s 30ms/step - loss: 0.0122 - accuracy: 0.9960 - val_loss: 0.0330 - val_accuracy: 0.9908\n",
      "Epoch 9/10\n",
      "1875/1875 [==============================] - 54s 29ms/step - loss: 0.0093 - accuracy: 0.9969 - val_loss: 0.0325 - val_accuracy: 0.9915\n",
      "Epoch 10/10\n",
      "1875/1875 [==============================] - 55s 29ms/step - loss: 0.0093 - accuracy: 0.9971 - val_loss: 0.0346 - val_accuracy: 0.9911\n",
      "313/313 [==============================] - 4s 12ms/step - loss: 0.0346 - accuracy: 0.9911\n",
      "Test accuracy: 0.991100013256073\n"
     ]
    },
    {
     "data": {
      "image/png": "[encoded data removed]",
      "text/plain": [
       "<Figure size 640x480 with 1 Axes>"
      ]
     },
     "metadata": {},
     "output_type": "display_data"
    }
   ],
   "source": [
    "import numpy as np\n",
    "import tensorflow as tf\n",
    "from tensorflow.keras import datasets, layers, models\n",
    "import matplotlib.pyplot as plt\n",
    "\n",
    "# Load the MNIST dataset\n",
    "(train_images, train_labels), (test_images, test_labels) = datasets.mnist.load_data()\n",
    "\n",
    "# Normalize the pixel values to range [0, 1]\n",
    "train_images, test_images = train_images / 255.0, test_images / 255.0\n",
    "\n",
    "# Add a channel dimension to the images (required for CNN input)\n",
    "train_images = np.expand_dims(train_images, axis=-1)\n",
    "test_images = np.expand_dims(test_images, axis=-1)\n",
    "\n",
    "# Convert labels to one-hot encoded vectors\n",
    "train_labels = tf.keras.utils.to_categorical(train_labels, num_classes=10)\n",
    "test_labels = tf.keras.utils.to_categorical(test_labels, num_classes=10)\n",
    "\n",
    "\n",
    "model = models.Sequential([\n",
    "    layers.Conv2D(32, (3, 3), activation='relu', input_shape=(28, 28, 1)),\n",
    "    layers.MaxPooling2D((2, 2)),\n",
    "    layers.Conv2D(64, (3, 3), activation='relu'),\n",
    "    layers.MaxPooling2D((2, 2)),\n",
    "    layers.Conv2D(64, (3, 3), activation='relu'),\n",
    "    layers.Flatten(),\n",
    "    layers.Dense(64, activation='relu'),\n",
    "    layers.Dense(10, activation='softmax')\n",
    "])\n",
    "\n",
    "\n",
    "model.compile(optimizer='adam',loss='categorical_crossentropy',metrics=['accuracy'])\n",
    "\n",
    "\n",
    "history = model.fit(train_images, train_labels, epochs=10, batch_size=32, validation_data=(test_images, test_labels))\n",
    "\n",
    "test_loss, test_acc = model.evaluate(test_images, test_labels)\n",
    "print(\"Test accuracy:\", test_acc)\n",
    "\n",
    "plt.plot(history.history['accuracy'], label='Training Accuracy')\n",
    "plt.plot(history.history['val_accuracy'], label='Validation Accuracy')\n",
    "plt.xlabel('Epoch')\n",
    "plt.ylabel('Accuracy')\n",
    "plt.legend(loc='lower right')\n",
    "plt.show()"
   ]
  },
  {
   "cell_type": "code",
   "execution_count": 1,
   "metadata": {},
   "outputs": [
    {
     "name": "stdout",
     "output_type": "stream",
     "text": [
      "Epoch 1/5\n",
      "300/300 [==============================] - 41s 120ms/step - loss: 0.4777 - accuracy: 0.8467 - val_loss: 0.0770 - val_accuracy: 0.9771\n",
      "Epoch 2/5\n",
      "300/300 [==============================] - 32s 106ms/step - loss: 0.1481 - accuracy: 0.9558 - val_loss: 0.0505 - val_accuracy: 0.9840\n",
      "Epoch 3/5\n",
      "300/300 [==============================] - 31s 102ms/step - loss: 0.1169 - accuracy: 0.9637 - val_loss: 0.0479 - val_accuracy: 0.9844\n",
      "Epoch 4/5\n",
      "300/300 [==============================] - 34s 114ms/step - loss: 0.0980 - accuracy: 0.9704 - val_loss: 0.0367 - val_accuracy: 0.9876\n",
      "Epoch 5/5\n",
      "300/300 [==============================] - 33s 110ms/step - loss: 0.0865 - accuracy: 0.9736 - val_loss: 0.0330 - val_accuracy: 0.9887\n"
     ]
    },
    {
     "data": {
      "text/plain": [
       "<keras.callbacks.History at 0x25962af1750>"
      ]
     },
     "execution_count": 1,
     "metadata": {},
     "output_type": "execute_result"
    }
   ],
   "source": [
    "# import the keras pakage\n",
    "import tensorflow as tf\n",
    "\n",
    "from tensorflow.keras.datasets import mnist\n",
    "# import th eanother pakages\n",
    "from keras.models import Sequential\n",
    "from keras.layers import Dense\n",
    "from keras.layers import Dropout\n",
    "from keras.layers import Flatten\n",
    "from keras.optimizers import Adam\n",
    "from keras.layers import Conv2D\n",
    "from keras.layers import MaxPooling2D\n",
    "from keras import utils\n",
    "import numpy as np\n",
    "\n",
    "\n",
    "\n",
    "\n",
    "# divide the  Data into (X_train ,Y_train,X_test,Y_test)\n",
    "(X_train, y_train), (X_test, y_test) = mnist.load_data()\n",
    "#reshape in form of (60000, 28, 28, 1)\n",
    "X_train = X_train.reshape(X_train.shape[0], X_train.shape[1], X_train.shape[2], 1).astype('float32')\n",
    "X_test = X_test.reshape(X_test.shape[0], X_test.shape[1], X_test.shape[2], 1).astype('float32')\n",
    "#normalize to get data in range of 0-1\n",
    "X_train/=255\n",
    "X_test/=255\n",
    "number_of_classes = 10\n",
    "y_train = utils.to_categorical(y_train, number_of_classes)\n",
    "y_test = utils.to_categorical(y_test, number_of_classes)\n",
    "\n",
    "\n",
    "\n",
    "model = Sequential()\n",
    "model.add(Conv2D(32, (5, 5), input_shape=(X_train.shape[1], X_train.shape[2], 1), activation='relu'))\n",
    "model.add(MaxPooling2D(pool_size=(2, 2)))\n",
    "model.add(Conv2D(32, (3, 3), activation='relu'))\n",
    "model.add(MaxPooling2D(pool_size=(2, 2)))\n",
    "model.add(Dropout(0.5))\n",
    "model.add(Flatten())\n",
    "model.add(Dense(128, activation='relu'))\n",
    "model.add(Dropout(0.5))\n",
    "model.add(Dense(number_of_classes, activation='softmax'))\n",
    "y_train.shape\n",
    "\n",
    "model.compile(loss='categorical_crossentropy', optimizer=Adam(), metrics=['accuracy'])\n",
    "\n",
    "model.fit(X_train, y_train, validation_data=(X_test, y_test), epochs=5,batch_size=200)"
   ]
  },
  {
   "cell_type": "code",
   "execution_count": 5,
   "metadata": {},
   "outputs": [
    {
     "name": "stdout",
     "output_type": "stream",
     "text": [
      "1/1 [==============================] - 2s 2s/step\n",
      "Predicted Digit: 4\n"
     ]
    }
   ],
   "source": [
    "import  numpy as np\n",
    "import cv2\n",
    "# Load and preprocess the test image\n",
    "img = cv2.imread('C:/Users/DELL/OneDrive/Desktop/number1.jpg', cv2.IMREAD_GRAYSCALE)\n",
    "resized = cv2.resize(img, (28, 28), interpolation=cv2.INTER_AREA)\n",
    "img = np.resize(resized, (28, 28, 1))\n",
    "im2arr = np.array(img)\n",
    "im2arr = im2arr.reshape(1, 28, 28, 1)\n",
    "\n",
    "# Make predictions and get the digit output\n",
    "y_pred = model.predict(im2arr)\n",
    "digit = np.argmax(y_pred)\n",
    "\n",
    "print(\"Predicted Digit:\",digit)"
   ]
  },
  {
   "cell_type": "code",
   "execution_count": null,
   "metadata": {},
   "outputs": [],
   "source": []
  }
 ],
 "metadata": {
  "kernelspec": {
   "display_name": "base",
   "language": "python",
   "name": "python3"
  },
  "language_info": {
   "codemirror_mode": {
    "name": "ipython",
    "version": 3
   },
   "file_extension": ".py",
   "mimetype": "text/x-python",
   "name": "python",
   "nbconvert_exporter": "python",
   "pygments_lexer": "ipython3",
   "version": "3.10.12"
  },
  "orig_nbformat": 4
 },
 "nbformat": 4,
 "nbformat_minor": 2
}
