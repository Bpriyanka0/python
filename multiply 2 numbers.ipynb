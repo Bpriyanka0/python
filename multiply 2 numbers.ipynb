{
 "cells": [
  {
   "cell_type": "code",
   "execution_count": 1,
   "metadata": {},
   "outputs": [
    {
     "name": "stdout",
     "output_type": "stream",
     "text": [
      "The product of 5 and 10 is: 50\n"
     ]
    }
   ],
   "source": [
    "def multiply_numbers(a, b):\n",
    "    result = a * b\n",
    "    return result\n",
    "\n",
    "# Example usage\n",
    "num1 = 5\n",
    "num2 = 10\n",
    "product = multiply_numbers(num1, num2)\n",
    "print(f\"The product of {num1} and {num2} is: {product}\")"
   ]
  },
  {
   "cell_type": "code",
   "execution_count": 2,
   "metadata": {},
   "outputs": [
    {
     "name": "stdout",
     "output_type": "stream",
     "text": [
      "The average of 10 and 20 is: 15.0\n"
     ]
    }
   ],
   "source": [
    "def average_of_two_numbers(a, b):\n",
    "    average = (a + b) / 2\n",
    "    return average\n",
    "\n",
    "# Example usage\n",
    "num1 = 10\n",
    "num2 = 20\n",
    "avg = average_of_two_numbers(num1, num2)\n",
    "print(f\"The average of {num1} and {num2} is: {avg}\")"
   ]
  },
  {
   "cell_type": "code",
   "execution_count": 3,
   "metadata": {},
   "outputs": [
    {
     "name": "stdout",
     "output_type": "stream",
     "text": [
      "The sum of 10 and 20 is: 30\n"
     ]
    }
   ],
   "source": [
    "def add_numbers(a, b):\n",
    "    result = a + b\n",
    "    return result\n",
    "\n",
    "# Example usage\n",
    "num1 = 10\n",
    "num2 = 20\n",
    "sum_result = add_numbers(num1, num2)\n",
    "print(f\"The sum of {num1} and {num2} is: {sum_result}\")"
   ]
  },
  {
   "cell_type": "code",
   "execution_count": 4,
   "metadata": {},
   "outputs": [
    {
     "name": "stdout",
     "output_type": "stream",
     "text": [
      "Approximated num1: 3.14\n",
      "Approximated num2: 1.62\n"
     ]
    }
   ],
   "source": [
    "def approximate_numbers(a, b, decimal_places):\n",
    "    approx_a = round(a, decimal_places)\n",
    "    approx_b = round(b, decimal_places)\n",
    "    return approx_a, approx_b\n",
    "\n",
    "# Example usage\n",
    "num1 = 3.14159\n",
    "num2 = 1.61803\n",
    "decimal_places = 2\n",
    "approx_num1, approx_num2 = approximate_numbers(num1, num2, decimal_places)\n",
    "print(f\"Approximated num1: {approx_num1}\")\n",
    "print(f\"Approximated num2: {approx_num2}\")"
   ]
  },
  {
   "cell_type": "code",
   "execution_count": 5,
   "metadata": {},
   "outputs": [
    {
     "name": "stdout",
     "output_type": "stream",
     "text": [
      "Name: John Doe\n",
      "Age: 30\n",
      "Salary: $50000\n",
      "Name: Jane Smith\n",
      "Age: 25\n",
      "Salary: $60000\n",
      "John Doe received a raise of $2000. New salary: $52000\n",
      "Jane Smith received a raise of $3000. New salary: $63000\n"
     ]
    }
   ],
   "source": [
    "class Employee:\n",
    "    def __init__(self, name, age, salary):\n",
    "        self.name = name\n",
    "        self.age = age\n",
    "        self.salary = salary\n",
    "\n",
    "    def display_info(self):\n",
    "        print(f\"Name: {self.name}\")\n",
    "        print(f\"Age: {self.age}\")\n",
    "        print(f\"Salary: ${self.salary}\")\n",
    "\n",
    "    def give_raise(self, raise_amount):\n",
    "        self.salary += raise_amount\n",
    "        print(f\"{self.name} received a raise of ${raise_amount}. New salary: ${self.salary}\")\n",
    "\n",
    "\n",
    "# Example usage\n",
    "if __name__ == \"__main__\":\n",
    "    # Create employee objects\n",
    "    emp1 = Employee(\"John Doe\", 30, 50000)\n",
    "    emp2 = Employee(\"Jane Smith\", 25, 60000)\n",
    "\n",
    "    # Display employee information\n",
    "    emp1.display_info()\n",
    "    emp2.display_info()\n",
    "\n",
    "    # Give a raise to an employee\n",
    "    emp1.give_raise(2000)\n",
    "    emp2.give_raise(3000)"
   ]
  },
  {
   "cell_type": "code",
   "execution_count": 6,
   "metadata": {},
   "outputs": [
    {
     "name": "stdout",
     "output_type": "stream",
     "text": [
      "Name: John Doe\n",
      "Age: 15\n",
      "Grade: A\n",
      "Name: Jane Smith\n",
      "Age: 16\n",
      "Grade: B\n",
      "John Doe's grade has been updated to A+\n",
      "Jane Smith's grade has been updated to A\n"
     ]
    }
   ],
   "source": [
    "class Student:\n",
    "    def __init__(self, name, age, grade):\n",
    "        self.name = name\n",
    "        self.age = age\n",
    "        self.grade = grade\n",
    "\n",
    "    def display_info(self):\n",
    "        print(f\"Name: {self.name}\")\n",
    "        print(f\"Age: {self.age}\")\n",
    "        print(f\"Grade: {self.grade}\")\n",
    "\n",
    "    def update_grade(self, new_grade):\n",
    "        self.grade = new_grade\n",
    "        print(f\"{self.name}'s grade has been updated to {self.grade}\")\n",
    "\n",
    "\n",
    "# Example usage\n",
    "if __name__ == \"__main__\":\n",
    "    # Create student objects\n",
    "    student1 = Student(\"John Doe\", 15, \"A\")\n",
    "    student2 = Student(\"Jane Smith\", 16, \"B\")\n",
    "\n",
    "    # Display student information\n",
    "    student1.display_info()\n",
    "    student2.display_info()\n",
    "\n",
    "    # Update a student's grade\n",
    "    student1.update_grade(\"A+\")\n",
    "    student2.update_grade(\"A\")"
   ]
  },
  {
   "cell_type": "code",
   "execution_count": 7,
   "metadata": {},
   "outputs": [
    {
     "name": "stdout",
     "output_type": "stream",
     "text": [
      "Matrix Addition:\n",
      "[[6, 8], [10, 12]]\n",
      "Matrix Subtraction:\n",
      "[[-4, -4], [-4, -4]]\n",
      "Matrix Element-wise Multiplication:\n",
      "[[5, 12], [21, 32]]\n"
     ]
    }
   ],
   "source": [
    "def matrix_addition(matrix1, matrix2):\n",
    "    result = [[matrix1[i][j] + matrix2[i][j] for j in range(len(matrix1[0]))] for i in range(len(matrix1))]\n",
    "    return result\n",
    "\n",
    "# Function to subtract two matrices\n",
    "def matrix_subtraction(matrix1, matrix2):\n",
    "    result = [[matrix1[i][j] - matrix2[i][j] for j in range(len(matrix1[0]))] for i in range(len(matrix1))]\n",
    "    return result\n",
    "\n",
    "# Function to multiply two matrices element-wise\n",
    "def matrix_elementwise_multiplication(matrix1, matrix2):\n",
    "    result = [[matrix1[i][j] * matrix2[i][j] for j in range(len(matrix1[0]))] for i in range(len(matrix1))]\n",
    "    return result\n",
    "\n",
    "# Example usage\n",
    "matrix1 = [[1, 2], [3, 4]]\n",
    "matrix2 = [[5, 6], [7, 8]]\n",
    "\n",
    "print(\"Matrix Addition:\")\n",
    "print(matrix_addition(matrix1, matrix2))\n",
    "\n",
    "print(\"Matrix Subtraction:\")\n",
    "print(matrix_subtraction(matrix1, matrix2))\n",
    "\n",
    "print(\"Matrix Element-wise Multiplication:\")\n",
    "print(matrix_elementwise_multiplication(matrix1, matrix2))"
   ]
  },
  {
   "cell_type": "code",
   "execution_count": 9,
   "metadata": {},
   "outputs": [],
   "source": [
    "def matrix_addition(matrix1, matrix2):\n",
    "    if len(matrix1) != len(matrix2) or len(matrix1[0]) != len(matrix2[0]):\n",
    "        raise ValueError(\"Matrices must have the same dimensions for addition.\")\n",
    "\n",
    "    result = [[matrix1[i][j] + matrix2[i][j] for j in range(len(matrix1[0]))] for i in range(len(matrix1))]\n",
    "    return result"
   ]
  },
  {
   "cell_type": "code",
   "execution_count": 11,
   "metadata": {},
   "outputs": [
    {
     "name": "stdout",
     "output_type": "stream",
     "text": [
      "[1, 3, 5, 7, 9, 11, 13, 15, 17, 19]\n"
     ]
    }
   ],
   "source": [
    "start = 1\n",
    "end = 20\n",
    "\n",
    "# List comprehension to generate odd numbers\n",
    "odd_numbers = [num for num in range(start, end + 1) if num % 2 != 0]\n",
    "\n",
    "# Print the odd numbers\n",
    "print(odd_numbers)"
   ]
  },
  {
   "cell_type": "code",
   "execution_count": 14,
   "metadata": {},
   "outputs": [
    {
     "name": "stdout",
     "output_type": "stream",
     "text": [
      "[9, 1, 3, 5, 7, 9, 11, 13, 15, 17, 19]\n"
     ]
    }
   ],
   "source": [
    "start = 1\n",
    "end = 20\n",
    "\n",
    "# Initialize an empty list to store odd numbers\n",
    "odd_numbers = [9]\n",
    "\n",
    "# Loop through the range and append odd numbers to the list\n",
    "for num in range(start, end + 1):\n",
    "    if num % 2 != 0:\n",
    "        odd_numbers.append(num)\n",
    "\n",
    "# Print the odd numbers\n",
    "print(odd_numbers)"
   ]
  },
  {
   "cell_type": "code",
   "execution_count": 16,
   "metadata": {},
   "outputs": [
    {
     "name": "stdout",
     "output_type": "stream",
     "text": [
      "[8, 2, 4, 6, 8, 10, 12, 14, 16, 18, 20]\n"
     ]
    }
   ],
   "source": [
    "start = 1\n",
    "end = 20\n",
    "\n",
    "# Initialize an empty list to store even numbers\n",
    "even_numbers = [8]\n",
    "\n",
    "# Loop through the range and append even numbers to the list\n",
    "for num in range(start, end + 1):\n",
    "    if num % 2 == 0:\n",
    "        even_numbers.append(num)\n",
    "\n",
    "# Print the even numbers\n",
    "print(even_numbers)"
   ]
  },
  {
   "cell_type": "code",
   "execution_count": 17,
   "metadata": {},
   "outputs": [
    {
     "name": "stdout",
     "output_type": "stream",
     "text": [
      "The sum of 10 and 20 is: 30\n"
     ]
    }
   ],
   "source": [
    "def add_numbers(a, b):\n",
    "    sum_result = a + b\n",
    "    return sum_result\n",
    "\n",
    "# Example usage\n",
    "num1 = 10\n",
    "num2 = 20\n",
    "result = add_numbers(num1, num2)\n",
    "print(f\"The sum of {num1} and {num2} is: {result}\")"
   ]
  },
  {
   "cell_type": "code",
   "execution_count": 18,
   "metadata": {},
   "outputs": [
    {
     "name": "stdout",
     "output_type": "stream",
     "text": [
      "The division of 20 by 5 is: 4.0\n"
     ]
    }
   ],
   "source": [
    "def divide_numbers(a, b):\n",
    "    result = a / b\n",
    "    return result\n",
    "\n",
    "# Example usage\n",
    "num1 = 20\n",
    "num2 = 5\n",
    "result = divide_numbers(num1, num2)\n",
    "print(f\"The division of {num1} by {num2} is: {result}\")"
   ]
  }
 ],
 "metadata": {
  "kernelspec": {
   "display_name": "Python 3",
   "language": "python",
   "name": "python3"
  },
  "language_info": {
   "codemirror_mode": {
    "name": "ipython",
    "version": 3
   },
   "file_extension": ".py",
   "mimetype": "text/x-python",
   "name": "python",
   "nbconvert_exporter": "python",
   "pygments_lexer": "ipython3",
   "version": "3.10.9"
  },
  "orig_nbformat": 4
 },
 "nbformat": 4,
 "nbformat_minor": 2
}
